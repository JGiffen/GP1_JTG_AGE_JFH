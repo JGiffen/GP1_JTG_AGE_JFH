{
 "cells": [
  {
   "cell_type": "code",
   "execution_count": 9,
   "id": "07cb1d39",
   "metadata": {},
   "outputs": [
    {
     "name": "stdout",
     "output_type": "stream",
     "text": [
      "\n",
      "Daily Journal Menu:\n",
      "1. Add a new entry\n",
      "2. Search entries\n",
      "3. Exit\n",
      "Enter your choice (1/2/3): 3\n",
      "Goodbye\n"
     ]
    }
   ],
   "source": [
    "class DailyJournal:\n",
    "    def __init__(self):\n",
    "        self.journal=[]\n",
    "    def add_entry(self,date,entry,tags,image):\n",
    "        self.journal.append({\n",
    "            'date':date,\n",
    "            'entry':entry,\n",
    "            'tags':tags,\n",
    "            'image':image\n",
    "        })\n",
    "        print(\"Entry added\")\n",
    "    def search_entries(self,key):\n",
    "        match_e=[\n",
    "            entry for entry in self.journal\n",
    "            if key in entry['date'] or key in entry['entry'] or key in entry['tags']\n",
    "        ]\n",
    "        if match_e:\n",
    "            print(\"Results:\\n\")\n",
    "            for entry in match_e:\n",
    "                print(f\"Date: {entry['date']}\")\n",
    "                print(f\"Entry: {entry['entry']}\")\n",
    "                print(f\"Tags: {', '.join(entry['tags'])}\")\n",
    "                if entry['image']:\n",
    "                    print(f\"Image: {entry['image']}\")\n",
    "                print()\n",
    "        else:\n",
    "            print(\"No matching entries found.\")\n",
    "\n",
    "journal_app=DailyJournal()\n",
    "while True:\n",
    "    print(\"\\nDaily Journal Menu:\")\n",
    "    print(\"1. Add a new entry\")\n",
    "    print(\"2. Search entries\")\n",
    "    print(\"3. Exit\")\n",
    "    choice=input(\"Enter your choice (1/2/3): \")\n",
    "    if choice=='1':\n",
    "        date=input(\"Enter the date (YYYY-MM-DD): \")\n",
    "        entry=input(\"Write your journal entry: \")\n",
    "        tags=input(\"Add tags (comma-separated): \").split(',')\n",
    "        image=input(\"Add an image URL (optional): \")\n",
    "        journal_app.add_entry(date,entry,tags,image)\n",
    "    elif choice=='2':\n",
    "        key=input(\"Enter a tag, entry, or date to search: \")\n",
    "        journal_app.search_entries(key)\n",
    "    elif choice=='3':\n",
    "        print(\"Goodbye\")\n",
    "        break\n",
    "    else:\n",
    "        print(\"Invalid choice\")"
   ]
  },
  {
   "cell_type": "code",
   "execution_count": null,
   "id": "3f3380a2",
   "metadata": {},
   "outputs": [],
   "source": []
  }
 ],
 "metadata": {
  "kernelspec": {
   "display_name": "Python 3 (ipykernel)",
   "language": "python",
   "name": "python3"
  },
  "language_info": {
   "codemirror_mode": {
    "name": "ipython",
    "version": 3
   },
   "file_extension": ".py",
   "mimetype": "text/x-python",
   "name": "python",
   "nbconvert_exporter": "python",
   "pygments_lexer": "ipython3",
   "version": "3.11.4"
  }
 },
 "nbformat": 4,
 "nbformat_minor": 5
}
